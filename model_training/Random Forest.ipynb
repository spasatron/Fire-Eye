{
 "cells": [
  {
   "cell_type": "code",
   "execution_count": 2,
   "metadata": {},
   "outputs": [],
   "source": [
    "import pandas as pd\n",
    "from sklearn.model_selection import train_test_split\n",
    "import matplotlib.pyplot as plt\n",
    "from sklearn.ensemble import RandomForestClassifier\n",
    "from sklearn.metrics import accuracy_score\n",
    "import numpy as np\n"
   ]
  },
  {
   "cell_type": "code",
   "execution_count": 3,
   "metadata": {},
   "outputs": [],
   "source": [
    "df = pd.read_csv('data/fire_eye_avg.csv')\n",
    "#df.reset_index(drop=True, inplace=True)\n",
    "df.drop(columns='index', inplace=True)\n",
    "X = df.drop(columns=['fire_mask_next_day'])\n",
    "y = df['fire_mask_next_day']\n",
    "\n",
    "\n",
    "X_train, X_test, y_train, y_test = train_test_split(X, y, test_size=0.2, random_state=42)\n",
    "\n"
   ]
  },
  {
   "cell_type": "code",
   "execution_count": 4,
   "metadata": {},
   "outputs": [
    {
     "name": "stdout",
     "output_type": "stream",
     "text": [
      "Training Accuracy: 1.0 Accuracy: 0.9650655021834061\n",
      "                     Feature  Importance\n",
      "3   energy_release_component    0.169339\n",
      "8              drought_index    0.116189\n",
      "0                  elevation    0.112046\n",
      "4                 burn_index    0.108245\n",
      "2                 wind_speed    0.056641\n",
      "1             wind_direction    0.048358\n",
      "6              tempature_min    0.047386\n",
      "15             fire_mask_1_1    0.043863\n",
      "7              tempature_max    0.042759\n",
      "10        population_density    0.040505\n",
      "17             fire_mask_2_0    0.038381\n",
      "9                 vegetation    0.032602\n",
      "18             fire_mask_2_1    0.028978\n",
      "16             fire_mask_1_2    0.021573\n",
      "14             fire_mask_1_0    0.021518\n",
      "11             fire_mask_0_0    0.018143\n",
      "19             fire_mask_2_2    0.018065\n",
      "12             fire_mask_0_1    0.016031\n",
      "13             fire_mask_0_2    0.013712\n",
      "5              precipitation    0.005668\n"
     ]
    }
   ],
   "source": [
    "# Fit a Random Forest model\n",
    "model = RandomForestClassifier(random_state=42)\n",
    "model.fit(X_train, y_train)\n",
    "\n",
    "# Predict and evaluate\n",
    "accuracy_train = model.score(X_train, y_train)\n",
    "accuracy = model.score(X_test, y_test)\n",
    "print(f'Training Accuracy: {accuracy_train}', f'Accuracy: {accuracy}')\n",
    "\n",
    "# Get feature importances\n",
    "feature_importances = model.feature_importances_\n",
    "\n",
    "# Create a DataFrame for better readability\n",
    "importance_df = pd.DataFrame({\n",
    "    'Feature': X.columns,\n",
    "    'Importance': feature_importances\n",
    "})\n",
    "\n",
    "# Sort the DataFrame by importance\n",
    "importance_df = importance_df.sort_values(by='Importance', ascending=False)\n",
    "\n",
    "print(importance_df)"
   ]
  },
  {
   "cell_type": "code",
   "execution_count": null,
   "metadata": {},
   "outputs": [],
   "source": []
  },
  {
   "cell_type": "code",
   "execution_count": 16,
   "metadata": {},
   "outputs": [],
   "source": [
    "train_acc = []\n",
    "test_acc = []\n",
    "\n",
    "\n",
    "\n",
    "for i in range(1, 40):\n",
    "\n",
    "    model = RandomForestClassifier(random_state=42, max_depth=i)\n",
    "    model.fit(X_train, y_train)\n",
    "\n",
    "    # Predict and evaluate\n",
    "    train_acc.append(model.score(X_train, y_train))\n",
    "    test_acc.append(model.score(X_test, y_test))\n",
    "\n",
    "\n",
    "\n",
    "\n"
   ]
  },
  {
   "cell_type": "code",
   "execution_count": 17,
   "metadata": {},
   "outputs": [
    {
     "data": {
      "text/plain": [
       "<matplotlib.legend.Legend at 0x237c6814500>"
      ]
     },
     "execution_count": 17,
     "metadata": {},
     "output_type": "execute_result"
    },
    {
     "data": {
      "image/png": "[encoded data removed]",
      "text/plain": [
       "<Figure size 640x480 with 1 Axes>"
      ]
     },
     "metadata": {},
     "output_type": "display_data"
    }
   ],
   "source": [
    "plt.plot(np.arange(1, 40), train_acc, np.arange(1, 40), test_acc)\n",
    "plt.xlabel('Max Features')\n",
    "plt.ylabel('Accuracy')\n",
    "plt.legend(['Train', 'Test'])"
   ]
  },
  {
   "cell_type": "code",
   "execution_count": 14,
   "metadata": {},
   "outputs": [
    {
     "name": "stdout",
     "output_type": "stream",
     "text": [
      "Training Accuracy: 0.996284965034965 Accuracy: 0.9615720524017467\n",
      "                     Feature  Importance\n",
      "3   energy_release_component    0.170833\n",
      "8              drought_index    0.115424\n",
      "0                  elevation    0.111026\n",
      "4                 burn_index    0.108877\n",
      "2                 wind_speed    0.055313\n",
      "1             wind_direction    0.046511\n",
      "15             fire_mask_1_1    0.046265\n",
      "6              tempature_min    0.044932\n",
      "7              tempature_max    0.042080\n",
      "17             fire_mask_2_0    0.039943\n",
      "10        population_density    0.039916\n",
      "9                 vegetation    0.029940\n",
      "18             fire_mask_2_1    0.029611\n",
      "16             fire_mask_1_2    0.022466\n",
      "14             fire_mask_1_0    0.022375\n",
      "19             fire_mask_2_2    0.019028\n",
      "11             fire_mask_0_0    0.018429\n",
      "12             fire_mask_0_1    0.017270\n",
      "13             fire_mask_0_2    0.014111\n",
      "5              precipitation    0.005650\n"
     ]
    }
   ],
   "source": [
    "model = RandomForestClassifier(random_state=42, max_depth=19)\n",
    "model.fit(X_train, y_train)\n",
    "\n",
    "# Predict and evaluate\n",
    "accuracy_train = model.score(X_train, y_train)\n",
    "accuracy = model.score(X_test, y_test)\n",
    "print(f'Training Accuracy: {accuracy_train}', f'Accuracy: {accuracy}')\n",
    "\n",
    "# Get feature importances\n",
    "feature_importances = model.feature_importances_\n",
    "\n",
    "# Create a DataFrame for better readability\n",
    "importance_df = pd.DataFrame({\n",
    "    'Feature': X.columns,\n",
    "    'Importance': feature_importances\n",
    "})\n",
    "\n",
    "# Sort the DataFrame by importance\n",
    "importance_df = importance_df.sort_values(by='Importance', ascending=False)\n",
    "\n",
    "print(importance_df)"
   ]
  },
  {
   "cell_type": "code",
   "execution_count": 15,
   "metadata": {},
   "outputs": [
    {
     "data": {
      "image/png": "[encoded data removed]",
      "text/plain": [
       "<Figure size 640x480 with 2 Axes>"
      ]
     },
     "metadata": {},
     "output_type": "display_data"
    }
   ],
   "source": [
    "from sklearn.metrics import confusion_matrix, ConfusionMatrixDisplay\n",
    "\n",
    "y_pred = model.predict(X_test)\n",
    "\n",
    "# Generating the confusion matrix\n",
    "conf_matrix = confusion_matrix(y_test, y_pred)\n",
    "\n",
    "# Displaying the confusion matrix\n",
    "disp = ConfusionMatrixDisplay(confusion_matrix=conf_matrix, display_labels=model.classes_)\n",
    "disp.plot(cmap=plt.cm.Blues)\n",
    "plt.title('Random Forest Confusion Matrix')\n",
    "plt.show()"
   ]
  },
  {
   "cell_type": "code",
   "execution_count": 7,
   "metadata": {},
   "outputs": [
    {
     "name": "stdout",
     "output_type": "stream",
     "text": [
      "Training Accuracy: 1.0 Accuracy: 0.9633187772925764\n",
      "                     Feature  Importance\n",
      "11                 fire_mask    0.228939\n",
      "3   energy_release_component    0.138060\n",
      "8              drought_index    0.117416\n",
      "4                 burn_index    0.117371\n",
      "0                  elevation    0.095756\n",
      "2                 wind_speed    0.058836\n",
      "6              tempature_min    0.054096\n",
      "10        population_density    0.050563\n",
      "1             wind_direction    0.049889\n",
      "7              tempature_max    0.048766\n",
      "9                 vegetation    0.034729\n",
      "5              precipitation    0.005579\n"
     ]
    }
   ],
   "source": [
    "\n",
    "df = pd.read_csv('data/fire_eye_avg.csv')\n",
    "#df.reset_index(drop=True, inplace=True)\n",
    "df.drop(columns='index', inplace=True)\n",
    "X = df.drop(columns=['fire_mask_next_day'])\n",
    "y = df['fire_mask_next_day']\n",
    "\n",
    "avg_list = []\n",
    "\n",
    "for i in range(3):\n",
    "    for j in range(3):\n",
    "        avg_list.append(f'fire_mask_{i}_{j}')\n",
    "\n",
    "\n",
    "\n",
    "X['fire_mask'] = X[avg_list].mean(axis=1)\n",
    "X.drop(columns=avg_list, inplace=True)\n",
    "\n",
    "\n",
    "X_train, X_test, y_train, y_test = train_test_split(X, y, test_size=0.2, random_state=42)\n",
    "\n",
    "\n",
    "model = RandomForestClassifier(random_state=42, max_depth=19)\n",
    "model.fit(X_train, y_train)\n",
    "\n",
    "# Predict and evaluate\n",
    "accuracy_train = model.score(X_train, y_train)\n",
    "accuracy = model.score(X_test, y_test)\n",
    "print(f'Training Accuracy: {accuracy_train}', f'Accuracy: {accuracy}')\n",
    "\n",
    "# Get feature importances\n",
    "feature_importances = model.feature_importances_\n",
    "\n",
    "# Create a DataFrame for better readability\n",
    "importance_df = pd.DataFrame({\n",
    "    'Feature': X.columns,\n",
    "    'Importance': feature_importances\n",
    "})\n",
    "\n",
    "# Sort the DataFrame by importance\n",
    "importance_df = importance_df.sort_values(by='Importance', ascending=False)\n",
    "\n",
    "print(importance_df)"
   ]
  },
  {
   "cell_type": "code",
   "execution_count": null,
   "metadata": {},
   "outputs": [],
   "source": []
  }
 ],
 "metadata": {
  "kernelspec": {
   "display_name": "venv",
   "language": "python",
   "name": "python3"
  },
  "language_info": {
   "codemirror_mode": {
    "name": "ipython",
    "version": 3
   },
   "file_extension": ".py",
   "mimetype": "text/x-python",
   "name": "python",
   "nbconvert_exporter": "python",
   "pygments_lexer": "ipython3",
   "version": "3.12.4"
  }
 },
 "nbformat": 4,
 "nbformat_minor": 2
}
